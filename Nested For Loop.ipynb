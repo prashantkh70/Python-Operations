{
 "cells": [
  {
   "cell_type": "markdown",
   "id": "d0b145cb",
   "metadata": {},
   "source": [
    "### Double Nested for loop"
   ]
  },
  {
   "cell_type": "code",
   "execution_count": 1,
   "id": "caabaa38",
   "metadata": {},
   "outputs": [
    {
     "name": "stdout",
     "output_type": "stream",
     "text": [
      "0\n",
      "1\n"
     ]
    }
   ],
   "source": [
    "for i in range(2):\n",
    "    print(i)"
   ]
  },
  {
   "cell_type": "code",
   "execution_count": 2,
   "id": "76d136d3",
   "metadata": {},
   "outputs": [
    {
     "name": "stdout",
     "output_type": "stream",
     "text": [
      "0\n",
      "1\n",
      "2\n",
      "3\n",
      "4\n"
     ]
    }
   ],
   "source": [
    "for j in range(5):\n",
    "    print(j)"
   ]
  },
  {
   "cell_type": "code",
   "execution_count": 4,
   "id": "5139bbf5",
   "metadata": {},
   "outputs": [
    {
     "name": "stdout",
     "output_type": "stream",
     "text": [
      "0\n",
      "1\n",
      "2\n",
      "3\n",
      "4\n",
      "0\n",
      "1\n",
      "2\n",
      "3\n",
      "4\n"
     ]
    }
   ],
   "source": [
    "for i in range(2):\n",
    "    for j in range(5):\n",
    "        print(j)"
   ]
  },
  {
   "cell_type": "code",
   "execution_count": 5,
   "id": "fac9c982",
   "metadata": {},
   "outputs": [
    {
     "name": "stdout",
     "output_type": "stream",
     "text": [
      "[0, 0]\n",
      "[0, 1]\n",
      "[0, 2]\n",
      "[0, 3]\n",
      "[0, 4]\n",
      "[1, 0]\n",
      "[1, 1]\n",
      "[1, 2]\n",
      "[1, 3]\n",
      "[1, 4]\n"
     ]
    }
   ],
   "source": [
    "for i in range(2):\n",
    "    for j in range(5):\n",
    "        print([i,j])"
   ]
  },
  {
   "cell_type": "code",
   "execution_count": 6,
   "id": "bab9273e",
   "metadata": {},
   "outputs": [
    {
     "name": "stdout",
     "output_type": "stream",
     "text": [
      "['Product A', 0]\n",
      "['Product A', 1]\n",
      "['Product A', 2]\n",
      "['Product A', 3]\n",
      "['Product A', 4]\n",
      "['Product B', 0]\n",
      "['Product B', 1]\n",
      "['Product B', 2]\n",
      "['Product B', 3]\n",
      "['Product B', 4]\n"
     ]
    }
   ],
   "source": [
    "for i in ['Product A','Product B']:\n",
    "    for j in range(5):\n",
    "        print([i,j])"
   ]
  },
  {
   "cell_type": "code",
   "execution_count": 7,
   "id": "073bb811",
   "metadata": {},
   "outputs": [
    {
     "name": "stdout",
     "output_type": "stream",
     "text": [
      "['Product A', 10000]\n",
      "['Product A', 11000]\n",
      "['Product A', 12000]\n",
      "['Product A', 13000]\n",
      "['Product A', 14000]\n",
      "['Product B', 10000]\n",
      "['Product B', 11000]\n",
      "['Product B', 12000]\n",
      "['Product B', 13000]\n",
      "['Product B', 14000]\n"
     ]
    }
   ],
   "source": [
    "products= ['Product A','Product B']\n",
    "exp_sales= [10000,11000,12000,13000,14000]\n",
    "\n",
    "for i in products:\n",
    "    for j in exp_sales:\n",
    "        print([i,j])"
   ]
  },
  {
   "cell_type": "markdown",
   "id": "8a4373d4",
   "metadata": {},
   "source": []
  },
  {
   "cell_type": "code",
   "execution_count": null,
   "id": "25fed141",
   "metadata": {},
   "outputs": [],
   "source": []
  }
 ],
 "metadata": {
  "kernelspec": {
   "display_name": "Python 3 (ipykernel)",
   "language": "python",
   "name": "python3"
  },
  "language_info": {
   "codemirror_mode": {
    "name": "ipython",
    "version": 3
   },
   "file_extension": ".py",
   "mimetype": "text/x-python",
   "name": "python",
   "nbconvert_exporter": "python",
   "pygments_lexer": "ipython3",
   "version": "3.9.12"
  }
 },
 "nbformat": 4,
 "nbformat_minor": 5
}
