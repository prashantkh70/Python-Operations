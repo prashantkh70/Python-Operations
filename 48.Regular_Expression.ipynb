{
 "cells": [
  {
   "cell_type": "markdown",
   "id": "5503e656",
   "metadata": {},
   "source": [
    "# Regular Expression"
   ]
  },
  {
   "cell_type": "code",
   "execution_count": 2,
   "id": "445db18e",
   "metadata": {},
   "outputs": [],
   "source": [
    "# regex >>> Regular Expression\n",
    "import re"
   ]
  },
  {
   "cell_type": "code",
   "execution_count": null,
   "id": "e074377f",
   "metadata": {},
   "outputs": [],
   "source": [
    "useful for text processing, identifing patterns, text cleaning\n",
    "\n",
    "10000 bank statements  \n",
    "\n",
    "IFSC code    (SBIN00 +branch code)  (A-Z,0-9)\n",
    "email_id     (user@damain)(A-Z,a-z,@,)\n",
    "Acc_num      (0-9)"
   ]
  },
  {
   "cell_type": "code",
   "execution_count": null,
   "id": "389e6eb8",
   "metadata": {},
   "outputs": [],
   "source": [
    "KYC Docs\n",
    "\n",
    "Adhaar card  (12 digit)\n",
    "PAN card (A-Z,0-9,A-Z)\n",
    "Passport Num: RY02154587\n",
    "    "
   ]
  },
  {
   "cell_type": "code",
   "execution_count": null,
   "id": "210d7e98",
   "metadata": {},
   "outputs": [],
   "source": [
    "i/p : text, (pan >>> image>> text )"
   ]
  },
  {
   "cell_type": "code",
   "execution_count": null,
   "id": "e57679ac",
   "metadata": {},
   "outputs": [],
   "source": [
    "Reg. Exp >> It is the sequence of characters used to check whether the given \n",
    "pattern is in given string/text\n",
    "\n",
    "\n",
    "we can extract useful data\n"
   ]
  },
  {
   "cell_type": "markdown",
   "id": "63e48f22",
   "metadata": {},
   "source": [
    "# Regular Expression Functions"
   ]
  },
  {
   "cell_type": "code",
   "execution_count": null,
   "id": "b250db84",
   "metadata": {},
   "outputs": [],
   "source": [
    "1. findall()\n",
    "2. sub()\n",
    "3. match()\n",
    "4. search()\n",
    "5. compile()\n",
    "6. split()\n"
   ]
  },
  {
   "cell_type": "markdown",
   "id": "c8b3c78f",
   "metadata": {},
   "source": [
    "# 1. findall()"
   ]
  },
  {
   "cell_type": "code",
   "execution_count": null,
   "id": "2840476b",
   "metadata": {},
   "outputs": [],
   "source": [
    "import re\n",
    "re.findall(\"pattern\",text/string)\n",
    "\n",
    "Return >> List of all matches"
   ]
  },
  {
   "cell_type": "code",
   "execution_count": 3,
   "id": "4de8e944",
   "metadata": {},
   "outputs": [
    {
     "name": "stdout",
     "output_type": "stream",
     "text": [
      "['9988554477', '9845783257']\n"
     ]
    }
   ],
   "source": [
    "text = \"\"\"Mobile Number is :\n",
    "        9988554477\n",
    "        9845783257\n",
    "        Email id : virat@gmail.com\n",
    "        todays date is : 24-08-2022\"\"\"\n",
    "\n",
    "mobile_num = re.findall('[0-9]{10}',text)\n",
    "\n",
    "print(mobile_num)"
   ]
  },
  {
   "cell_type": "code",
   "execution_count": 5,
   "id": "0eec8da2",
   "metadata": {},
   "outputs": [
    {
     "name": "stdout",
     "output_type": "stream",
     "text": [
      "['998855447', '984578325']\n"
     ]
    }
   ],
   "source": [
    "text = \"\"\"Mobile Number is :\n",
    "        9988554477\n",
    "        984578325 7\n",
    "        8856457858\n",
    "        Email id : virat@gmail.com\n",
    "        todays date is : 24-08-2022\"\"\"\n",
    "\n",
    "mobile_num = re.findall('[0-9]{9}',text)\n",
    "\n",
    "print(mobile_num)"
   ]
  },
  {
   "cell_type": "code",
   "execution_count": 8,
   "id": "7bea458b",
   "metadata": {},
   "outputs": [
    {
     "name": "stdout",
     "output_type": "stream",
     "text": [
      "['99885', '54477', '98457', '83257', '88564', '57858']\n"
     ]
    }
   ],
   "source": [
    "text = \"\"\"Mobile Number is :\n",
    "        9988554477\n",
    "        9845783257\n",
    "        8856457858\n",
    "        Email id : virat@gmail.com\n",
    "        todays date is : 24-08-2022\"\"\"\n",
    "\n",
    "mobile_num = re.findall('[0-9]{5}',text)\n",
    "\n",
    "print(mobile_num)"
   ]
  },
  {
   "cell_type": "code",
   "execution_count": 9,
   "id": "7fed17b2",
   "metadata": {},
   "outputs": [
    {
     "name": "stdout",
     "output_type": "stream",
     "text": [
      "['99', '88', '55', '44', '77', '98', '45', '78', '32', '57', '88', '56', '45', '78', '58', '24', '08', '20', '22']\n"
     ]
    }
   ],
   "source": [
    "text = \"\"\"Mobile Number is :\n",
    "        9988554477\n",
    "        9845783257\n",
    "        8856457858\n",
    "        Email id : virat@gmail.com\n",
    "        todays date is : 24-08-2022\"\"\"\n",
    "\n",
    "mobile_num = re.findall('[0-9]{2}',text)\n",
    "\n",
    "print(mobile_num)"
   ]
  },
  {
   "cell_type": "code",
   "execution_count": 11,
   "id": "467ba2f4",
   "metadata": {},
   "outputs": [
    {
     "name": "stdout",
     "output_type": "stream",
     "text": [
      "['885', '544', '984', '578', '325', '856', '457', '858', '202']\n"
     ]
    }
   ],
   "source": [
    "text = \"\"\"Mobile Number is :\n",
    "        99 8855447 7\n",
    "        9845783257\n",
    "        8 856457858\n",
    "        Email id : virat@gmail.com\n",
    "        todays date is : 24-08-2022\"\"\"\n",
    "\n",
    "mobile_num = re.findall('[0-9]{3}',text)\n",
    "\n",
    "print(mobile_num)"
   ]
  },
  {
   "cell_type": "code",
   "execution_count": 12,
   "id": "98083f20",
   "metadata": {},
   "outputs": [
    {
     "name": "stdout",
     "output_type": "stream",
     "text": [
      "['9988', '5544', '9845', '7832', '8856', '4578', '2022']\n"
     ]
    }
   ],
   "source": [
    "text = \"\"\"Mobile Number is :\n",
    "        9988554477\n",
    "        9845783257\n",
    "        8856457858\n",
    "        Email id : virat@gmail.com\n",
    "        todays date is : 24-08-2022 \n",
    "        \"\"\"\n",
    "\n",
    "mobile_num = re.findall('[0-9]{4}',text)\n",
    "\n",
    "print(mobile_num)"
   ]
  },
  {
   "cell_type": "code",
   "execution_count": 13,
   "id": "6fccd2f5",
   "metadata": {},
   "outputs": [
    {
     "name": "stdout",
     "output_type": "stream",
     "text": [
      "['24-08-2022', '15-08-2022', '14-05-2000', '01-01-2030']\n"
     ]
    }
   ],
   "source": [
    "text = \"\"\"Mobile Number is :\n",
    "        99 8855447 7\n",
    "        9845783257\n",
    "        8 856457858\n",
    "        Email id : virat@gmail.com\n",
    "        todays date is : 24-08-2022\n",
    "        15-08-2022\n",
    "        14-05-2000\n",
    "        01-01-2030\"\"\"\n",
    "\n",
    "Dates = re.findall('[0-9]{2}[-][0-9]{2}[-][0-9]{4}',text)\n",
    "\n",
    "print(Dates)"
   ]
  },
  {
   "cell_type": "code",
   "execution_count": 14,
   "id": "986439cf",
   "metadata": {},
   "outputs": [
    {
     "name": "stdout",
     "output_type": "stream",
     "text": [
      "['24-08-2022', '14-05-2000', '01-01-2030']\n"
     ]
    }
   ],
   "source": [
    "text = \"\"\"Mobile Number is :\n",
    "        99 8855447 7\n",
    "        9845783257\n",
    "        8 856457858\n",
    "        Email id : virat@gmail.com\n",
    "        todays date is : 24-08-2022\n",
    "        15/08/2022\n",
    "        14-05-2000\n",
    "        01-01-2030\"\"\"\n",
    "\n",
    "Dates = re.findall('[0-9]{2}[-][0-9]{2}[-][0-9]{4}',text)\n",
    "\n",
    "print(Dates)"
   ]
  },
  {
   "cell_type": "code",
   "execution_count": 15,
   "id": "7b772bef",
   "metadata": {},
   "outputs": [
    {
     "name": "stdout",
     "output_type": "stream",
     "text": [
      "['24-08-2022', '15/08/2022', '14-05-2000', '01-01-2030']\n"
     ]
    }
   ],
   "source": [
    "text = \"\"\"Mobile Number is :\n",
    "        99 8855447 7\n",
    "        9845783257\n",
    "        8 856457858\n",
    "        Email id : virat@gmail.com\n",
    "        todays date is : 24-08-2022\n",
    "        15/08/2022\n",
    "        14-05-2000\n",
    "        01-01-2030\"\"\"\n",
    "\n",
    "Dates = re.findall('[0-9]{2}[-/][0-9]{2}[-/][0-9]{4}',text)\n",
    "\n",
    "print(Dates)"
   ]
  },
  {
   "cell_type": "code",
   "execution_count": 21,
   "id": "766ee757",
   "metadata": {},
   "outputs": [
    {
     "name": "stdout",
     "output_type": "stream",
     "text": [
      "['virat@gmail.com']\n"
     ]
    }
   ],
   "source": [
    "text = \"\"\"Mobile Number is :\n",
    "        99 8855447 7\n",
    "        9845783257\n",
    "        8 856457858\n",
    "        Email id : virat@gmail.com\n",
    "        todays date is : 24-08-2022\n",
    "        15/08/2022\n",
    "        14-05-2000\n",
    "        01-01-2030\"\"\"\n",
    "\n",
    "email = re.findall('[a-z]{4,15}[@][a-z]{3,15}[.][a-z]{3,15}',text)\n",
    "\n",
    "print(email)"
   ]
  },
  {
   "cell_type": "code",
   "execution_count": 22,
   "id": "051e1a6f",
   "metadata": {},
   "outputs": [
    {
     "name": "stdout",
     "output_type": "stream",
     "text": [
      "['virat@gmail.com', 'vi-rat125@gmail.com', 'virat_1234@gmail.com', 'virat.kohali@gmail.com']\n"
     ]
    }
   ],
   "source": [
    "text = \"\"\"Mobile Number is :\n",
    "        99 8855447 7\n",
    "        9845783257\n",
    "        8 856457858\n",
    "        Email id : virat@gmail.com\n",
    "        vi-rat125@gmail.com\n",
    "        virat_1234@gmail.com\n",
    "        virat.kohali@gmail.com\n",
    "        todays date is : 24-08-2022\n",
    "        15/08/2022\n",
    "        14-05-2000\n",
    "        01-01-2030\"\"\"\n",
    "\n",
    "email = re.findall('[0-9a-z._-]{5,20}[@][a-z.]{3,20}',text)\n",
    "\n",
    "print(email)     #gmail.com   [a-z.]"
   ]
  },
  {
   "cell_type": "code",
   "execution_count": 24,
   "id": "2190713f",
   "metadata": {},
   "outputs": [
    {
     "name": "stdout",
     "output_type": "stream",
     "text": [
      "['ASZFG4578K', 'KONBV8578L', 'AKNPY7845L', 'KTNBH4512S']\n"
     ]
    }
   ],
   "source": [
    "text = \"\"\"Mobile Number is :\n",
    "        99 8855447 7\n",
    "        9845783257\n",
    "        8 856457858\n",
    "        Email id : virat@gmail.com\n",
    "        vi-rat125@gmail.com\n",
    "        virat_1234@gmail.com\n",
    "        virat.kohali@gmail.com\n",
    "        todays date is : 24-08-2022\n",
    "        15/08/2022\n",
    "        14-05-2000\n",
    "        01-01-2030\n",
    "        ASZFG4578K\n",
    "        KONBV8578L\n",
    "        AKNPY7845L\n",
    "        KTNBH4512S\n",
    "        \"\"\"\n",
    "\n",
    "PAN = re.findall('[A-Z]{5}[0-9]{4}[A-Z]{1}',text)\n",
    "\n",
    "print(PAN)"
   ]
  },
  {
   "cell_type": "code",
   "execution_count": 26,
   "id": "aad107e4",
   "metadata": {},
   "outputs": [
    {
     "name": "stdout",
     "output_type": "stream",
     "text": [
      "['ASZFG4578K', 'KONBV8578L', 'AKNPY7845L', 'KTNBH4512S', '4512HKTNBS']\n"
     ]
    }
   ],
   "source": [
    "text = \"\"\"Mobile Number is :\n",
    "        99 8855447 7\n",
    "        9845783257\n",
    "        8 856457858\n",
    "        Email id : virat@gmail.com\n",
    "        ASZFG4578K@gmail.com\n",
    "        virat_1234@gmail.com\n",
    "        virat.kohali@gmail.com\n",
    "        todays date is : 24-08-2022\n",
    "        15/08/2022\n",
    "        14-05-2000\n",
    "        01-01-2030\n",
    "        \n",
    "        KONBV8578L\n",
    "        AKNPY7845L\n",
    "        KTNBH4512S\n",
    "        4512HKTNBS\n",
    "        \"\"\"\n",
    "\n",
    "PAN = re.findall('[A-Z0-9]{9}[A-Z]{1}',text)\n",
    "\n",
    "print(PAN)"
   ]
  },
  {
   "cell_type": "code",
   "execution_count": 27,
   "id": "4449fce8",
   "metadata": {},
   "outputs": [
    {
     "name": "stdout",
     "output_type": "stream",
     "text": [
      "['1234 4678 5245', '5263 4568 4578', '9578 1008 2351', '4521 2005 1008']\n"
     ]
    }
   ],
   "source": [
    "text = \"\"\"Mobile Number is :\n",
    "        99 8855447 7\n",
    "        9845783257\n",
    "        8 856457858\n",
    "        Email id : virat@gmail.com\n",
    "        vi-rat125@gmail.com\n",
    "        virat_1234@gmail.com\n",
    "        virat.kohali@gmail.com\n",
    "        todays date is : 24-08-2022\n",
    "        15/08/2022\n",
    "        14-05-2000\n",
    "        01-01-2030\n",
    "        ASZFG4578K\n",
    "        KONBV8578L\n",
    "        AKNPY7845L\n",
    "        KTNBH4512S\n",
    "        \n",
    "        1234 4678 5245 \n",
    "        5263 4568 4578\n",
    "        9578 1008 2351\n",
    "        4521 2005 1008\n",
    "        \"\"\"\n",
    "\n",
    "ADHAR = re.findall('[0-9]{4}[ ][0-9]{4}[ ][0-9]{4}',text)\n",
    "\n",
    "print(ADHAR)"
   ]
  },
  {
   "cell_type": "markdown",
   "id": "591be054",
   "metadata": {},
   "source": [
    "## Special Sequences"
   ]
  },
  {
   "cell_type": "markdown",
   "id": "b6db41d8",
   "metadata": {},
   "source": [
    "### 1. \\d"
   ]
  },
  {
   "cell_type": "code",
   "execution_count": null,
   "id": "b8ab60a1",
   "metadata": {},
   "outputs": [],
   "source": [
    "\\d >>> [0-9]"
   ]
  },
  {
   "cell_type": "code",
   "execution_count": 28,
   "id": "26e69100",
   "metadata": {},
   "outputs": [
    {
     "name": "stdout",
     "output_type": "stream",
     "text": [
      "['1234 4678 5245', '5263 4568 4578', '9578 1008 2351', '4521 2005 1008']\n"
     ]
    }
   ],
   "source": [
    "text = \"\"\"Mobile Number is :\n",
    "        99 8855447 7\n",
    "        9845783257\n",
    "        8 856457858\n",
    "        Email id : virat@gmail.com\n",
    "        vi-rat125@gmail.com\n",
    "        virat_1234@gmail.com\n",
    "        virat.kohali@gmail.com\n",
    "        todays date is : 24-08-2022\n",
    "        15/08/2022\n",
    "        14-05-2000\n",
    "        01-01-2030\n",
    "        ASZFG4578K\n",
    "        KONBV8578L\n",
    "        AKNPY7845L\n",
    "        KTNBH4512S\n",
    "        \n",
    "        1234 4678 5245 \n",
    "        5263 4568 4578\n",
    "        9578 1008 2351\n",
    "        4521 2005 1008\n",
    "        \"\"\"\n",
    "\n",
    "ADHAR = re.findall('\\d{4}[ ]\\d{4}[ ]\\d{4}',text)\n",
    "\n",
    "print(ADHAR)"
   ]
  },
  {
   "cell_type": "code",
   "execution_count": 30,
   "id": "c4672125",
   "metadata": {},
   "outputs": [
    {
     "name": "stdout",
     "output_type": "stream",
     "text": [
      "['88554', '98457', '83257', '85645']\n"
     ]
    }
   ],
   "source": [
    "text = \"\"\"Mobile Number is :\n",
    "        99 8855447 7\n",
    "        9845783257\n",
    "        8 856457858\n",
    "        Email id : virat@gmail.com\n",
    "        vi-rat125@gmail.com\n",
    "        virat_1234@gmail.com\n",
    "        virat.kohali@gmail.com\n",
    "        todays date is : 24-08-2022\n",
    "        15/08/2022\n",
    "        14-05-2000\n",
    "        01-01-2030\n",
    "        ASZFG4578K\n",
    "        KONBV8578L\n",
    "        AKNPY7845L\n",
    "        KTNBH4512S\n",
    "        \n",
    "        1234 4678 5245 \n",
    "        5263 4568 4578\n",
    "        9578 1008 2351\n",
    "        4521 2005 1008\n",
    "        \"\"\"\n",
    "\n",
    "two = re.findall('\\d{5}',text)\n",
    "\n",
    "print(two)"
   ]
  },
  {
   "cell_type": "code",
   "execution_count": 31,
   "id": "da40a2f3",
   "metadata": {},
   "outputs": [
    {
     "name": "stdout",
     "output_type": "stream",
     "text": [
      "['8855', '9845', '7832', '8564', '5785', '1234', '2022', '2022', '2000', '2030', '4578', '8578', '7845', '4512', '1234', '4678', '5245', '5263', '4568', '4578', '9578', '1008', '2351', '4521', '2005', '1008']\n"
     ]
    }
   ],
   "source": [
    "text = \"\"\"Mobile Number is :\n",
    "        99 8855447 7\n",
    "        9845783257\n",
    "        8 856457858\n",
    "        Email id : virat@gmail.com\n",
    "        vi-rat125@gmail.com\n",
    "        virat_1234@gmail.com\n",
    "        virat.kohali@gmail.com\n",
    "        todays date is : 24-08-2022\n",
    "        15/08/2022\n",
    "        14-05-2000\n",
    "        01-01-2030\n",
    "        ASZFG4578K\n",
    "        KONBV8578L\n",
    "        AKNPY7845L\n",
    "        KTNBH4512S\n",
    "        \n",
    "        1234 4678 5245 \n",
    "        5263 4568 4578\n",
    "        9578 1008 2351\n",
    "        4521 2005 1008\n",
    "        \"\"\"\n",
    "\n",
    "four = re.findall('\\d{4}',text)\n",
    "\n",
    "print(four)"
   ]
  },
  {
   "cell_type": "markdown",
   "id": "34097bcd",
   "metadata": {},
   "source": [
    "### 2. \\D"
   ]
  },
  {
   "cell_type": "code",
   "execution_count": null,
   "id": "89b419b5",
   "metadata": {},
   "outputs": [],
   "source": [
    "\\D >>> except [0-9]\n",
    "\\D >>> [^0-9]\n"
   ]
  },
  {
   "cell_type": "code",
   "execution_count": 32,
   "id": "cf400450",
   "metadata": {},
   "outputs": [
    {
     "name": "stdout",
     "output_type": "stream",
     "text": [
      "['M', 'o', 'b', 'i', 'l', 'e', ' ', 'N', 'u', 'm', 'b', 'e', 'r', ' ', 'i', 's', ' ', ':', '\\n', ' ', ' ', ' ', ' ', ' ', ' ', ' ', ' ', ' ', ' ', '\\n', ' ', ' ', ' ', ' ', ' ', ' ', ' ', ' ', '\\n', ' ', ' ', ' ', ' ', ' ', ' ', ' ', ' ', ' ', '\\n', ' ', ' ', ' ', ' ', ' ', ' ', ' ', ' ', 'E', 'm', 'a', 'i', 'l', ' ', 'i', 'd', ' ', ':', ' ', 'v', 'i', 'r', 'a', 't', '@', 'g', 'm', 'a', 'i', 'l', '.', 'c', 'o', 'm', '\\n', ' ', ' ', ' ', ' ', ' ', ' ', ' ', ' ', 'v', 'i', '-', 'r', 'a', 't', '@', 'g', 'm', 'a', 'i', 'l', '.', 'c', 'o', 'm', '\\n', ' ', ' ', ' ', ' ', ' ', ' ', ' ', ' ', 'v', 'i', 'r', 'a', 't', '_', '@', 'g', 'm', 'a', 'i', 'l', '.', 'c', 'o', 'm', '\\n', ' ', ' ', ' ', ' ', ' ', ' ', ' ', ' ', 'v', 'i', 'r', 'a', 't', '.', 'k', 'o', 'h', 'a', 'l', 'i', '@', 'g', 'm', 'a', 'i', 'l', '.', 'c', 'o', 'm', '\\n', ' ', ' ', ' ', ' ', ' ', ' ', ' ', ' ', 't', 'o', 'd', 'a', 'y', 's', ' ', 'd', 'a', 't', 'e', ' ', 'i', 's', ' ', ':', ' ', '-', '-', '\\n', ' ', ' ', ' ', ' ', ' ', ' ', ' ', ' ', '/', '/', '\\n', ' ', ' ', ' ', ' ', ' ', ' ', ' ', ' ', '-', '-', '\\n', ' ', ' ', ' ', ' ', ' ', ' ', ' ', ' ', '-', '-', '\\n', ' ', ' ', ' ', ' ', ' ', ' ', ' ', ' ', 'A', 'S', 'Z', 'F', 'G', 'K', '\\n', ' ', ' ', ' ', ' ', ' ', ' ', ' ', ' ', 'K', 'O', 'N', 'B', 'V', 'L', '\\n', ' ', ' ', ' ', ' ', ' ', ' ', ' ', ' ', 'A', 'K', 'N', 'P', 'Y', 'L', '\\n', ' ', ' ', ' ', ' ', ' ', ' ', ' ', ' ', 'K', 'T', 'N', 'B', 'H', 'S', '\\n', ' ', ' ', ' ', ' ', ' ', ' ', ' ', ' ', '\\n', ' ', ' ', ' ', ' ', ' ', ' ', ' ', ' ', ' ', ' ', ' ', '\\n', ' ', ' ', ' ', ' ', ' ', ' ', ' ', ' ', ' ', ' ', '\\n', ' ', ' ', ' ', ' ', ' ', ' ', ' ', ' ', ' ', ' ', '\\n', ' ', ' ', ' ', ' ', ' ', ' ', ' ', ' ', ' ', ' ', '\\n', ' ', ' ', ' ', ' ', ' ', ' ', ' ', ' ']\n"
     ]
    }
   ],
   "source": [
    "text = \"\"\"Mobile Number is :\n",
    "        99 8855447 7\n",
    "        9845783257\n",
    "        8 856457858\n",
    "        Email id : virat@gmail.com\n",
    "        vi-rat125@gmail.com\n",
    "        virat_1234@gmail.com\n",
    "        virat.kohali@gmail.com\n",
    "        todays date is : 24-08-2022\n",
    "        15/08/2022\n",
    "        14-05-2000\n",
    "        01-01-2030\n",
    "        ASZFG4578K\n",
    "        KONBV8578L\n",
    "        AKNPY7845L\n",
    "        KTNBH4512S\n",
    "        \n",
    "        1234 4678 5245 \n",
    "        5263 4568 4578\n",
    "        9578 1008 2351\n",
    "        4521 2005 1008\n",
    "        \"\"\"\n",
    "\n",
    "four = re.findall('\\D',text)\n",
    "\n",
    "print(four)"
   ]
  },
  {
   "cell_type": "code",
   "execution_count": 33,
   "id": "c9cc9d78",
   "metadata": {},
   "outputs": [
    {
     "name": "stdout",
     "output_type": "stream",
     "text": [
      "['Mobi', 'le N', 'umbe', 'r is', ' :\\n ', '    ', '\\n   ', '    ', '\\n   ', '    ', '\\n   ', '    ', ' Ema', 'il i', 'd : ', 'vira', 't@gm', 'ail.', 'com\\n', '    ', '    ', 'vi-r', '@gma', 'il.c', 'om\\n ', '    ', '   v', 'irat', '@gma', 'il.c', 'om\\n ', '    ', '   v', 'irat', '.koh', 'ali@', 'gmai', 'l.co', 'm\\n  ', '    ', '  to', 'days', ' dat', 'e is', '\\n   ', '    ', '\\n   ', '    ', '\\n   ', '    ', '\\n   ', '    ', ' ASZ', 'K\\n  ', '    ', '  KO', 'L\\n  ', '    ', '  AK', 'L\\n  ', '    ', '  KT', 'S\\n  ', '    ', '  \\n ', '    ', ' \\n  ', '    ', '\\n   ', '    ', '\\n   ', '    ', '\\n   ', '    ']\n"
     ]
    }
   ],
   "source": [
    "text = \"\"\"Mobile Number is :\n",
    "        99 8855447 7\n",
    "        9845783257\n",
    "        8 856457858\n",
    "        Email id : virat@gmail.com\n",
    "        vi-rat125@gmail.com\n",
    "        virat_1234@gmail.com\n",
    "        virat.kohali@gmail.com\n",
    "        todays date is : 24-08-2022\n",
    "        15/08/2022\n",
    "        14-05-2000\n",
    "        01-01-2030\n",
    "        ASZFG4578K\n",
    "        KONBV8578L\n",
    "        AKNPY7845L\n",
    "        KTNBH4512S\n",
    "        \n",
    "        1234 4678 5245 \n",
    "        5263 4568 4578\n",
    "        9578 1008 2351\n",
    "        4521 2005 1008\n",
    "        \"\"\"\n",
    "\n",
    "four = re.findall('\\D{4}',text)\n",
    "\n",
    "print(four)"
   ]
  },
  {
   "cell_type": "code",
   "execution_count": 35,
   "id": "70717b24",
   "metadata": {},
   "outputs": [
    {
     "name": "stdout",
     "output_type": "stream",
     "text": [
      "['Mobile', ' Numbe', 'r is :', '\\n     ', '\\n     ', '\\n     ', '\\n     ', '   Ema', 'il id ', ': vira', 't@gmai', 'l.com\\n', '      ', '  vi-r', '@gmail', '.com\\n ', '      ', ' virat', '@gmail', '.com\\n ', '      ', ' virat', '.kohal', 'i@gmai', 'l.com\\n', '      ', '  toda', 'ys dat', 'e is :', '\\n     ', '\\n     ', '\\n     ', '\\n     ', '   ASZ', 'K\\n    ', '    KO', 'L\\n    ', '    AK', 'L\\n    ', '    KT', 'S\\n    ', '    \\n ', '      ', ' \\n    ', '\\n     ', '\\n     ', '\\n     ']\n"
     ]
    }
   ],
   "source": [
    "text = \"\"\"Mobile Number is :\n",
    "        99 8855447 7\n",
    "        9845783257\n",
    "        8 856457858\n",
    "        Email id : virat@gmail.com\n",
    "        vi-rat125@gmail.com\n",
    "        virat_1234@gmail.com\n",
    "        virat.kohali@gmail.com\n",
    "        todays date is : 24-08-2022\n",
    "        15/08/2022\n",
    "        14-05-2000\n",
    "        01-01-2030\n",
    "        ASZFG4578K\n",
    "        KONBV8578L\n",
    "        AKNPY7845L\n",
    "        KTNBH4512S\n",
    "        \n",
    "        1234 4678 5245 \n",
    "        5263 4568 4578\n",
    "        9578 1008 2351\n",
    "        4521 2005 1008\n",
    "        \"\"\"\n",
    "\n",
    "four = re.findall('\\D{6}',text)\n",
    "\n",
    "print(four)"
   ]
  },
  {
   "cell_type": "code",
   "execution_count": 37,
   "id": "3d4fdcf3",
   "metadata": {},
   "outputs": [
    {
     "name": "stdout",
     "output_type": "stream",
     "text": [
      "['ta sci', 'ence i', 's an i', 'nterdi', 'scipli', 'nary f', 'ield t', 'hat \\nu', 'ses sc', 'ientif', 'ic met', 'hods, ', 'proces', 'ses, a', 'lgorit', 'hms an', 'd syst', 'ems to', ' \\nextr', 'act kn', 'owledg', 'e and ', 'insigh', 'ts fro', 'm nois', 'y, str', 'ucture', 'd and ', 'unstru', 'ctured', ' \\ndata', ', and ', 'apply ', 'knowle', 'dge fr', 'om dat', 'a acro', 'ss a b', 'road r', 'ange o', 'f appl', 'icatio', 'n doma']\n"
     ]
    }
   ],
   "source": [
    "text = \"\"\"Da02ta science is an interdisciplinary field that \n",
    "uses scientific methods, processes, algorithms and systems to \n",
    "extract knowledge and insights from noisy, structured and unstructured \n",
    "data, and apply knowledge from data across a broad range of application domains\"\"\"\n",
    "\n",
    "result = re.findall('\\D{6}',text)\n",
    "print(result)"
   ]
  },
  {
   "cell_type": "code",
   "execution_count": 38,
   "id": "2c764e2a",
   "metadata": {},
   "outputs": [
    {
     "name": "stdout",
     "output_type": "stream",
     "text": [
      "['Da', 'ta', ' s', 'ci', 'en', 'ce', ' i', 's ', 'an', ' i', 'nt', 'er', 'di', 'sc', 'ip', 'li', 'na', 'ry', ' f', 'ie', 'ld', ' t', 'ha', 't ', '\\nu', 'se', 's ', 'sc', 'ie', 'nt', 'if', 'ic', ' m', 'et', 'ho', 'ds', ', ', 'pr', 'oc', 'es', 'se', 's,', ' a', 'lg', 'or', 'it', 'hm', 's ', 'an', 'd ', 'sy', 'st', 'em', 's ', 'to', ' \\n', 'ex', 'tr', 'ac', 't ', 'kn', 'ow', 'le', 'dg', 'e ', 'an', 'd ', 'in', 'si', 'gh', 'ts', ' f', 'ro', 'm ', 'no', 'is', 'y,', ' s', 'tr', 'uc', 'tu', 're', 'd ', 'an', 'd ', 'un', 'st', 'ru', 'ct', 'ur', 'ed', ' \\n', 'da', 'ta', ', ', 'an', 'd ', 'ap', 'pl', 'y ', 'kn', 'ow', 'le', 'dg', 'e ', 'fr', 'om', ' d', 'at', 'a ', 'ac', 'ro', 'ss', ' a', ' b', 'ro', 'ad', ' r', 'an', 'ge', ' o', 'f ', 'ap', 'pl', 'ic', 'at', 'io', 'n ', 'do', 'ma', 'in']\n"
     ]
    }
   ],
   "source": [
    "text = \"\"\"Da02ta science is an interdisciplinary field that \n",
    "uses scientific methods, processes, algorithms and systems to \n",
    "extract knowledge and insights from noisy, structured and unstructured \n",
    "data, and apply knowledge from data across a broad range of application domains\"\"\"\n",
    "\n",
    "result = re.findall('\\D{2}',text)\n",
    "print(result)"
   ]
  },
  {
   "cell_type": "markdown",
   "id": "c7993a56",
   "metadata": {},
   "source": [
    "### 3. \\w"
   ]
  },
  {
   "cell_type": "code",
   "execution_count": null,
   "id": "0eb9a3c1",
   "metadata": {},
   "outputs": [],
   "source": [
    "\\w >>> [0-9a-zA-Z_]\n"
   ]
  },
  {
   "cell_type": "code",
   "execution_count": 39,
   "id": "c1a72ef0",
   "metadata": {},
   "outputs": [
    {
     "name": "stdout",
     "output_type": "stream",
     "text": [
      "['Da02ta', 'scienc', 'interd', 'iscipl', 'scient', 'method', 'proces', 'algori', 'system', 'extrac', 'knowle', 'insigh', 'struct', 'unstru', 'ctured', 'knowle', 'across', 'applic', 'domain']\n"
     ]
    }
   ],
   "source": [
    "text = \"\"\"Da02ta science is an interdisciplinary field that \n",
    "uses scientific methods, processes, algorithms and systems to \n",
    "extract knowledge and insights from noisy, structured and unstructured \n",
    "data, and apply knowledge from data across a broad range of application domains\"\"\"\n",
    "\n",
    "result = re.findall('\\w{6}',text)\n",
    "print(result)"
   ]
  },
  {
   "cell_type": "code",
   "execution_count": 40,
   "id": "f2615c21",
   "metadata": {},
   "outputs": [
    {
     "name": "stdout",
     "output_type": "stream",
     "text": [
      "['Da02ta', 'scien_', 'interd', 'iscipl', 'scient', 'method', 'proces', 'algori', 'system', 'extrac', 'knowle', 'insigh', 'struct', 'unstru', 'ctured', 'knowle', 'across', 'applic', 'domain']\n"
     ]
    }
   ],
   "source": [
    "text = \"\"\"Da02ta scien_ce is an interdisciplinary field that \n",
    "uses scientific methods, processes, algorithms and systems to \n",
    "extract knowledge and insights from noisy, structured and unstructured \n",
    "data, and apply knowledge from data across a broad range of application domains\"\"\"\n",
    "\n",
    "result = re.findall('\\w{6}',text)\n",
    "print(result)"
   ]
  },
  {
   "cell_type": "code",
   "execution_count": 41,
   "id": "2293c327",
   "metadata": {},
   "outputs": [
    {
     "name": "stdout",
     "output_type": "stream",
     "text": [
      "['scien_', 'interd', 'iscipl', 'scient', 'method', 'proces', 'algori', 'system', 'extrac', 'knowle', 'insigh', 'struct', 'unstru', 'ctured', 'knowle', 'across', 'applic', 'domain']\n"
     ]
    }
   ],
   "source": [
    "text = \"\"\"Da02t scien_ce is an interdisciplinary field that \n",
    "uses scientific methods, processes, algorithms and systems to \n",
    "extract knowledge and insights from noisy, structured and unstructured \n",
    "data, and apply knowledge from data across a broad range of application domains\"\"\"\n",
    "\n",
    "result = re.findall('\\w{6}',text)\n",
    "print(result)"
   ]
  },
  {
   "cell_type": "code",
   "execution_count": null,
   "id": "e008fcb9",
   "metadata": {},
   "outputs": [],
   "source": []
  }
 ],
 "metadata": {
  "kernelspec": {
   "display_name": "Python 3",
   "language": "python",
   "name": "python3"
  },
  "language_info": {
   "codemirror_mode": {
    "name": "ipython",
    "version": 3
   },
   "file_extension": ".py",
   "mimetype": "text/x-python",
   "name": "python",
   "nbconvert_exporter": "python",
   "pygments_lexer": "ipython3",
   "version": "3.8.8"
  }
 },
 "nbformat": 4,
 "nbformat_minor": 5
}
